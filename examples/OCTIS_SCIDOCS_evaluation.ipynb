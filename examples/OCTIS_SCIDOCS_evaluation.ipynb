{
 "cells": [
  {
   "cell_type": "code",
   "execution_count": 14,
   "metadata": {
    "pycharm": {
     "name": "#%%\n"
    }
   },
   "outputs": [],
   "source": [
    "import os\n",
    "import json\n",
    "import codecs\n",
    "import pandas as pd"
   ]
  },
  {
   "cell_type": "code",
   "execution_count": null,
   "outputs": [],
   "source": [
    "def scidoc_convert(input_file):\n",
    "    with open(input_file) as f:\n",
    "        data = json.load(f)\n",
    "\n",
    "        updated_dataset = []\n",
    "        for k, v in data.items():\n",
    "            text = ''\n",
    "            text = text + v['title'] + ' ' if v['title'] is not None else text\n",
    "            text = text + v['abstract'] if v['abstract'] is not None else text\n",
    "            del  v['title'], v['abstract']\n",
    "            entry = v\n",
    "            entry['text'] = text\n",
    "            entry['id'] = k\n",
    "            updated_dataset.append(entry)\n",
    "        dataset =  pd.DataFrame(updated_dataset)\n",
    "        return dataset\n"
   ],
   "metadata": {
    "collapsed": false,
    "pycharm": {
     "name": "#%%\n"
    }
   }
  },
  {
   "cell_type": "code",
   "execution_count": null,
   "outputs": [],
   "source": [
    "cls_dataset = 'data/paper_metadata_mag_mesh.json'\n",
    "recomm_dataset = 'data/paper_metadata_recomm.json'\n",
    "activity_dataset = 'data/paper_metadata_view_cite_read.json'\n",
    "\n",
    "cls_dataset = scidoc_convert(cls_dataset)\n",
    "recomm_dataset = scidoc_convert(recomm_dataset)\n",
    "activity_dataset= scidoc_convert(activity_dataset)"
   ],
   "metadata": {
    "collapsed": false,
    "pycharm": {
     "name": "#%%\n"
    }
   }
  },
  {
   "cell_type": "code",
   "execution_count": null,
   "outputs": [],
   "source": [
    "cls_dataset.head(5)"
   ],
   "metadata": {
    "collapsed": false,
    "pycharm": {
     "name": "#%%\n"
    }
   }
  },
  {
   "cell_type": "code",
   "execution_count": null,
   "outputs": [],
   "source": [
    "max_features = {'cls_dataset': 4000,\n",
    "             'recomm_dataset': 4000,\n",
    "             'activity_dataset': 6000}\n",
    "\n",
    "num_topics = {'cls_dataset': 50,\n",
    "             'recomm_dataset': 50,\n",
    "             'activity_dataset': 100}"
   ],
   "metadata": {
    "collapsed": false,
    "pycharm": {
     "name": "#%%\n"
    }
   }
  },
  {
   "cell_type": "code",
   "execution_count": null,
   "outputs": [],
   "source": [
    "preprocessor = Preprocessing(max_features=4000\n",
    "                             min_df=configs.min_df, max_df=configs.max_df,\n",
    "                             min_words_docs=configs.min_doc_count, min_chars=configs.min_chars,\n",
    "                             remove_punctuation=True,\n",
    "                             remove_numbers=configs.remove_num,\n",
    "                             remove_alphanum=configs.remove_alphanum,\n",
    "                             strip_html=configs.strip_html,\n",
    "                             lowercase=configs.lower,\n",
    "                             punctuation=string.punctuation,\n",
    "                             lemmatize=configs.lemmatize,\n",
    "                             stopword_list=configs.stopwords,\n",
    "                             split=configs.use_partitions,\n",
    "                             language='english', verbose=False, num_processes=None,\n",
    "                             save_original_indexes=True, remove_stopwords_spacy=False)\n",
    "\n",
    "dataset = preprocessor.preprocess_dataset(documents_path=configs.dataset_path)"
   ],
   "metadata": {
    "collapsed": false,
    "pycharm": {
     "name": "#%%\n"
    }
   }
  },
  {
   "cell_type": "code",
   "execution_count": null,
   "outputs": [],
   "source": [
    "--model-type ProdLDA --dataset-path /home/ihussien/Workspace/Code/scidocs/data/paper_metadata_mag_mesh_formatted.json --runs 5 ' \\\n",
    "       '--epochs 10 --max-features 4000 --num-topics 50 --label fos ' \\\n",
    "       '--max-label-count 50 --model-output scidoc_output --save-dir  checkpoint/SuperCTM.checkpoint_1000_w.pt --training-embeddings bert_model_202204230319.pkl\n"
   ],
   "metadata": {
    "collapsed": false,
    "pycharm": {
     "name": "#%%\n"
    }
   }
  },
  {
   "cell_type": "code",
   "execution_count": null,
   "metadata": {},
   "outputs": [],
   "source": [
    "preprocessor = Preprocessing(max_features=4000\n",
    "                             min_df=configs.min_df, max_df=configs.max_df,\n",
    "                             min_words_docs=configs.min_doc_count, min_chars=configs.min_chars,\n",
    "                             remove_punctuation=True,\n",
    "                             remove_numbers=configs.remove_num,\n",
    "                             remove_alphanum=configs.remove_alphanum,\n",
    "                             strip_html=configs.strip_html,\n",
    "                             lowercase=configs.lower,\n",
    "                             punctuation=string.punctuation,\n",
    "                             lemmatize=configs.lemmatize,\n",
    "                             stopword_list=configs.stopwords,\n",
    "                             split=configs.use_partitions,\n",
    "                             language='english', verbose=False, num_processes=None,\n",
    "                             save_original_indexes=True, remove_stopwords_spacy=False)\n",
    "\n",
    "dataset = preprocessor.preprocess_dataset(documents_path=configs.dataset_path)"
   ]
  },
  {
   "cell_type": "code",
   "execution_count": null,
   "metadata": {},
   "outputs": [],
   "source": [
    "--model-type ProdLDA --dataset-path /home/ihussien/Workspace/Code/scidocs/data/paper_metadata_mag_mesh_formatted.json --runs 5 ' \\\n",
    "       '--epochs 10 --max-features 4000 --num-topics 50 --label fos ' \\\n",
    "       '--max-label-count 50 --model-output scidoc_output --save-dir  checkpoint/SuperCTM.checkpoint_1000_w.pt --training-embeddings bert_model_202204230319.pkl"
   ]
  }
 ],
 "metadata": {
  "kernelspec": {
   "display_name": "Python 3 (ipykernel)",
   "language": "python",
   "name": "python3"
  },
  "language_info": {
   "codemirror_mode": {
    "name": "ipython",
    "version": 3
   },
   "file_extension": ".py",
   "mimetype": "text/x-python",
   "name": "python",
   "nbconvert_exporter": "python",
   "pygments_lexer": "ipython3",
   "version": "3.9.0"
  }
 },
 "nbformat": 4,
 "nbformat_minor": 1
}